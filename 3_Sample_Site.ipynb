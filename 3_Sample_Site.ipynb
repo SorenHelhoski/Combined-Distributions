{
 "cells": [
  {
   "cell_type": "code",
   "execution_count": 1,
   "metadata": {},
   "outputs": [],
   "source": [
    "import matplotlib.pyplot as plt\n",
    "import numpy as np\n",
    "from KDEpy import NaiveKDE\n",
    "import scipy.integrate as integrate\n",
    "from function_library_3 import trim\n",
    "from tqdm import tqdm\n",
    "\n",
    "#================================================================================\n",
    "# SETUP\n",
    "\n",
    "#change default font size for graphs\n",
    "plt.rcParams.update({'font.size':20})\n",
    "\n",
    "# create the needed directories and clear old output\n",
    "import os,glob\n",
    "try:\n",
    "    os.mkdir('3_Pressure_Distributions')\n",
    "except:\n",
    "    for filename in glob.glob('3_Pressure_Distributions/*'):\n",
    "        os.remove(filename)\n",
    "try:\n",
    "    os.mkdir('3_Temperature_Distributions')\n",
    "except:\n",
    "    for filename in glob.glob('3_Temperarture_Distributions/*'):\n",
    "        os.remove(filename)\n",
    "\n",
    "\n",
    "# suppress warnings\n",
    "import warnings\n",
    "warnings.filterwarnings('ignore')\n",
    "\n",
    "\n",
    "#================================================================================\n",
    "# RETRIEVE BASIN SIZE DATA\n",
    "\n",
    "# open the basin input file\n",
    "input_file = open('Basins.txt','r')\n",
    "\n",
    "# create a hashmap from basin name -> diameter\n",
    "basin_diameter = {} \n",
    "line = ' '\n",
    "while line[0:3] != 'END':\n",
    "    line = input_file.readline()\n",
    "    if line[0:2] == 'LB': # data is retrieved from lines starting with LB: (Lunar Basin)\n",
    "        name, size, N, E = trim(line.split(':'))\n",
    "        basin_diameter[name] = size\n",
    "        \n",
    "input_file.close()\n",
    "    \n",
    "#================================================================================\n",
    "# DEFINE HAVERSINE FORMULA\n",
    "    \n",
    "def haversine(lat1, lon1, lat2, lon2, Radius): # haversine formula\n",
    "    dLat = np.radians(lat2 - lat1) # change in latitude\n",
    "    dLon = np.radians(lon2 - lon1) # change in longitude\n",
    "    lat1 = np.radians(lat1) # latitude 1\n",
    "    lat2 = np.radians(lat2) # latitude 2\n",
    "    a = np.sin(dLat/2)**2 + np.cos(lat1)*np.cos(lat2)*np.sin(dLon/2)**2 # intermediate step\n",
    "    c = 2*np.arcsin(np.sqrt(a)) # interior angle between two coordinates [rad]\n",
    "    return Radius * c # returns distance between two coordinates\n",
    "\n",
    "#================================================================================\n",
    "# GLOBAL PARAMETERS\n",
    "\n",
    "p_Range = [.1,310] # plotted pressure range\n",
    "T_Range = [200,14000] # plotted temperature range\n",
    "    \n",
    "basin_list = [] # generate list of all basins considered\n",
    "for filename in os.listdir('1_Basin_Data'):\n",
    "    if filename.endswith(\".dat\"):\n",
    "        basin_list.append(filename)\n",
    "\n",
    "# hashmaps of Lunar missions and their coordinates\n",
    "A_sites = {11:[0.67409,23.47298],12:[-3.01381,-23.41930],14:[-3.64544,-17.47139],15:[26.13224,3.63400],16:[-8.97341,15.49859],17:[20.18809,30.77475]}\n",
    "L_sites = {16:[-.5137,56.3638],20:[3.5333,56.55],24:[12.7145,62.2129]}\n",
    "C_sites = {5:[43.1,-51.8]}\n",
    "\n",
    "#================================================================================\n",
    "# DEFINE CROSS-SECTION FUNCTION\n",
    "\n",
    "def cross_section(loc, param):  # take a slice of the pressure and temperature 2D KDEs  \n",
    "    # basin name    2D KDE values    Stacked Height values   Loc of basin, Radius planet, Radius basin \n",
    "    basin,         x, yp,zp, yT,zT,   height_x, height_y,                   coords, R_p, R_c           = param\n",
    "    #             loc  pres   Temp     loc       height                      N,E\n",
    "    \n",
    "    #---------------------------------------\n",
    "    # data is interpolated linearly between the two surounding columns closest the to landing location\n",
    "    \n",
    "    lower = min(x) ; upper = max(x) # find the lower and upper bounds of the landing location data\n",
    "    \n",
    "    # find the below and above cross-section\n",
    "    for i in range(len(x)):\n",
    "        if loc < x[i] <= upper:\n",
    "            upper = x[i]\n",
    "        if lower < x[i] <= loc:\n",
    "            lower = x[i]\n",
    "    # if the location is out of bounds, return null values       \n",
    "    if lower == upper or max(height_x) < loc:\n",
    "        return 0,[],[],[],[]\n",
    "    \n",
    "    #---------------------------------------\n",
    "    # interpolate stacked height curve \n",
    "    i=0 ; height_accum = 0\n",
    "    while i+1 < len(height_x):\n",
    "        if height_x[i] <= loc <= height_x[i+1]: # locate the two points that need to be interpolated\n",
    "            xl=height_x[i] ; xh=height_x[i+1] ; c=loc # x values of data below and above the loc\n",
    "            yl=height_y[i] ; yh=height_y[i+1] # y values of data below and above\n",
    "            height_accum = yl+(yh-yl)/(xh-xl)*(c-xl) # linearly interpolate\n",
    "            break\n",
    "        i+=1  \n",
    "    \n",
    "    #---------------------------------------\n",
    "    # initialize lists of the cross-sections below and above the landing location\n",
    "    pres0,pres1 = [],[] ; Temp0,Temp1 = [],[] # pressures, probabilty density ; pressures, probabilty density \n",
    "    pval0,pval1 = [],[] ; Tval0,Tval1 = [],[] # temperature, probabilty density ; temperature, probabilty density \n",
    "\n",
    "    # create the lists of the cross-sections above and below the landing location \n",
    "    for i in range(len(x)):\n",
    "        if x[i] == lower: # below cross-sections\n",
    "            pres0.append(yp[i])\n",
    "            pval0.append(zp[i])\n",
    "            Temp0.append(yT[i])\n",
    "            Tval0.append(zT[i])\n",
    "        if x[i] == upper: # above cross-sections\n",
    "            pres1.append(yp[i])\n",
    "            pval1.append(zp[i])\n",
    "            Temp1.append(yT[i])\n",
    "            Tval1.append(zT[i])\n",
    "    \n",
    "    # intialize lists of the cross-section at the landing location\n",
    "    pres,pval=[],[] # pressures, probabilty density\n",
    "    Temp,Tval=[],[] # temperature, probabilty density\n",
    "    \n",
    "    # linearly interpolate the below and above cross-section curves to get the desired cross-section      \n",
    "    for i in range(len(pres0)):\n",
    "        pres.append(pres0[i]) # append the pressures \n",
    "        Temp.append(Temp0[i]) # append the temperatures \n",
    "        \n",
    "        xl=lower ; xh=upper ; c=loc # locate the two cross-sections that need to be interpolated\n",
    "        \n",
    "        # interpolate the pressure cross-sections\n",
    "        yl=pval0[i] ; yh=pval1[i]\n",
    "        value = yl+(yh-yl)/(xh-xl)*(c-xl) # linearly interpolate\n",
    "        pval.append(value)\n",
    "        \n",
    "        # interpolate the temperature cross-sections\n",
    "        yl=Tval0[i] ; yh=Tval1[i]\n",
    "        value = yl+(yh-yl)/(xh-xl)*(c-xl) # linearly interpolate\n",
    "        Tval.append(value)\n",
    "        \n",
    "    #---------------------------------------\n",
    "    # returns a stacked height value, pressure curve, temperature curve\n",
    "    return height_accum, np.array(pres), np.array(pval), np.array(Temp), np.array(Tval)\n",
    "\n",
    "#================================================================================\n",
    "# DEFINE MAIN FUNCTION\n",
    "\n",
    "def distribution(Apollo=False,Luna=False,Chang_e=False): # create pressure distributions at the sample site\n",
    "    \n",
    "    # error catch if more than one mission is specified\n",
    "    if bool(Apollo) + bool(Luna) + bool(Chang_e) > 1:\n",
    "        print('ERROR : Can only take 1 keyword argument')\n",
    "        return\n",
    "    \n",
    "    #---------------------------------------\n",
    "    # get user input for the sample location (or draw from mission hashmap)\n",
    "    if Apollo: # get user input if Apollo\n",
    "        if Apollo == True:\n",
    "            mission = eval(input('Apollo Mission : '))\n",
    "        else:\n",
    "            mission = Apollo\n",
    "        N_sample = A_sites[mission][0]\n",
    "        E_sample = A_sites[mission][1]\n",
    "        title_loc = 'Apollo {} Landing Site'.format(mission)\n",
    "    elif Luna: # get user input if Luna\n",
    "        if Luna == True:\n",
    "            mission = eval(input('Luna Mission : '))\n",
    "        else:\n",
    "            mission = Luna\n",
    "        N_sample = L_sites[mission][0]\n",
    "        E_sample = L_sites[mission][1]\n",
    "        title_loc = 'Luna {} Landing Site'.format(mission)\n",
    "    elif Chang_e: # get user input if Chang'e\n",
    "        if Chang_e == True:\n",
    "            mission = eval(input('Chang_e Mission : '))\n",
    "        else:\n",
    "            mission = Chang_e\n",
    "        N_sample = C_sites[mission][0]\n",
    "        E_sample = C_sites[mission][1]\n",
    "        title_loc = \"Chang'e {} Landing Site\".format(mission)\n",
    "        \n",
    "    else: # get user input of specified coordinates\n",
    "        N_sample = eval(input('Sample Site location Degrees North: '))\n",
    "        E_sample = eval(input('Sample Site location Degrees East : '))\n",
    "        title_loc = '{} N , {} E'.format(N_sample,E_sample)\n",
    "    \n",
    "    print('============================================================================')\n",
    "    if Apollo or Luna or Chang_e:\n",
    "        print(title_loc)\n",
    "    else:\n",
    "        print('Custom Site')\n",
    "    print('Sample Location: {} N , {} E'.format(N_sample,E_sample))\n",
    "    print('============================================================================')\n",
    "    \n",
    "    #---------------------------------------\n",
    "    # begin combining the pressure/temperature distributions\n",
    "    \n",
    "    # initialize lists \n",
    "    names = [] ; radii = [] ; distances = [] # names of each basin, diameter of basin, and distance from sample site to center of basin\n",
    "    heights, px, pv, Tx, Tv = [],[],[],[],[] \n",
    "    # respective stacked heights and pressure/temperature distributions from each basin\n",
    "    \n",
    "    # cycle through each basin for their contribution\n",
    "    for each in tqdm(basin_list):\n",
    "        # extract the data from the KDE data\n",
    "        fileKDE  = open('1_KDE_Data/{}'.format(each),'r')\n",
    "        full_data = eval(fileKDE.readline())\n",
    "        fileKDE.close()\n",
    "        names.append(full_data[0]) # names of each basin\n",
    "        N_basin = full_data[8][0] # latitude of basin\n",
    "        E_basin = full_data[8][1] # longitude of basin\n",
    "        planet_radius = full_data[9] # radius of planet\n",
    "        distances.append(haversine(N_basin,E_basin,N_sample,E_sample,planet_radius)) # distance from sample site to center of basin \n",
    "        radii.append(full_data[10]) # radius of each basin\n",
    "        H_0,p_0,pv_0,T_0,Tv_0 = cross_section(distances[-1],full_data) # respective stacked heights and pressure/temperature distributions from each basin\n",
    "        # add to each list\n",
    "        heights.append(H_0)\n",
    "        px.append(p_0) ; pv.append(pv_0)\n",
    "        Tx.append(T_0) ; Tv.append(Tv_0)\n",
    "        \n",
    "    #---------------------------------------\n",
    "    # synchronize the patterns and colors\n",
    "    \n",
    "    import random\n",
    "    random.seed(7)\n",
    "    lines = [\"--\",\"-.\",\":\"]\n",
    "    pattern_color = {}\n",
    "    \n",
    "    for each in names:\n",
    "        color=\"#\"+''.join([random.choice('0123456789ABCDEF') for i in range(6)])\n",
    "        line_type = lines[random.randint(0,2)]\n",
    "        pattern_color[each] = [line_type,color]\n",
    "        \n",
    "    #---------------------------------------\n",
    "    # sort from nearest to farthest basin (sample to center)\n",
    "    distances, radii, heights, names , px, pv, Tx, Tv = zip(*sorted(zip(distances, radii, heights, names, px, pv, Tx, Tv)))\n",
    "    \n",
    "    # all the px and Tx are identical... so we can collapse that array:\n",
    "    px = px[0]\n",
    "    Tx = Tx[0]\n",
    "    \n",
    "    # sort the stacked-heights so that they can be ranked\n",
    "    sorted_heights = []\n",
    "    for each in heights:\n",
    "        sorted_heights.append(each)\n",
    "    sorted_heights.sort() ; sorted_heights.reverse()\n",
    "    \n",
    "    # rank the stacked-heights\n",
    "    i = 0 ; rankings = {}\n",
    "    for each in sorted_heights:\n",
    "        if each in rankings.keys():\n",
    "            rankings[each] = i\n",
    "        else:\n",
    "            i += 1\n",
    "            rankings[each] = i        \n",
    "\n",
    "    print('Stacked Height at {}'.format(title_loc))\n",
    "    print('{:0.05f} km of ejecta from all basins'.format(sum(heights)))\n",
    "    print('----------------------------------------------------------------------------')\n",
    "    for i in range(len(names)):\n",
    "        if heights[i] < 1e-9 : # skip basin if it has no contributions\n",
    "            continue\n",
    "            \n",
    "        sample_to_center = '| {:04d} km away '.format(int(distances[i]))\n",
    "        \n",
    "        sample_to_edge = '| {:04d} km from edge '.format(int(distances[i] - radii[i]))\n",
    "        if radii[i] > distances[i]: # determine if the sample site is from within the basin\n",
    "            sample_to_edge = '| {:04d} km within edge '.format(int(radii[i] - distances[i]))\n",
    "        \n",
    "        # print the details from each basin\n",
    "        rank = rankings[heights[i]]\n",
    "        print('{:0.05f} km (#{}) | from {:12s}  '.format(heights[i],rank,names[i]) + sample_to_center + sample_to_edge)\n",
    "\n",
    "    print('============================================================================')\n",
    "    \n",
    "    # initialize lists\n",
    "    p_AbunEach, p_AbunTotal = [], 0\n",
    "    T_AbunEach, T_AbunTotal = [], 0\n",
    "    for i in range(len(names)): # add up contributions from each basin\n",
    "        if heights[i] < 1e-9 : # skip basin if it has no contributions\n",
    "            p_AbunEach.append([]) # add in dummy placeholders for empty non-contributing basins\n",
    "            T_AbunEach.append([]) # add in dummy placeholders for empty non-contributing basins\n",
    "            continue\n",
    "            \n",
    "        p_norm = integrate.trapz(pv[i], x=px)\n",
    "        T_norm = integrate.trapz(Tv[i], x=Tx)\n",
    "        p_AbunEach.append(heights[i]/p_norm*np.array(pv[i])) # normalize by the stacked height / area under the pressure curve\n",
    "        T_AbunEach.append(heights[i]/T_norm*np.array(Tv[i])) # normalize by the stacked height / area under the temperature curve \n",
    "        p_AbunTotal += p_AbunEach[-1] # combined pressure distribution curve\n",
    "        T_AbunTotal += T_AbunEach[-1] # combined temperature distribution curve\n",
    "        \n",
    "    AreaP = integrate.trapz(p_AbunTotal,x=px) # area under the total pressure curve\n",
    "    AreaT = integrate.trapz(T_AbunTotal,x=Tx) # area under the total temperature curve\n",
    "    \n",
    "    \n",
    "    #---------------------------------------\n",
    "    # plot the pressure distributions\n",
    "    \n",
    "    fig = plt.figure(figsize=(16,16),facecolor='white')\n",
    "    plt.suptitle('Pressure Distribution at {}'.format(title_loc), fontsize=32)\n",
    "    ax = fig.add_subplot(111) \n",
    "    \n",
    "    ax.set_title('Pressure PDF', fontsize=24)\n",
    "    ax.set_xlabel('Pressure [GPa]', fontsize=24)\n",
    "    ax.set_ylabel('Probability Density (normed to Combined)', fontsize=24)\n",
    "    \n",
    "    ax.plot(px, p_AbunTotal/AreaP, c='black', label='(Combined)', alpha=.5) # plot combined distribution\n",
    "        \n",
    "    for i in range(len(names)): # plot each basin's pressure distribution\n",
    "        if heights[i] < 1e-9 : # skip basin if it has no contributions\n",
    "            continue\n",
    "        lsc = pattern_color[names[i]][0]\n",
    "        col = pattern_color[names[i]][1]\n",
    "        ax.plot(px, p_AbunEach[i]/AreaP, ls=lsc, c=col, label=names[i])\n",
    "        \n",
    "    ax.set_xlim(0,60)\n",
    "    \n",
    "    #ax.set_yscale('log')\n",
    "    \n",
    "    ax.grid(True, ls='--', zorder=-15); ax.legend(fontsize=24,title='In Order of Proximity');\n",
    "    \n",
    "    fig.savefig('3_Pressure_Distributions/Pressure Distribution at {}.png'.format(title_loc))\n",
    "    plt.close(fig)\n",
    "\n",
    "    #---------------------------------------\n",
    "    # plot the temperature distributions\n",
    "    \n",
    "    fig = plt.figure(figsize=(16,16),facecolor='white')\n",
    "    plt.suptitle('Temperature Distribution at {}'.format(title_loc), fontsize=32)\n",
    "    ax = fig.add_subplot(111) \n",
    "    \n",
    "    ax.set_title('Temperature PDF', fontsize=24)\n",
    "    ax.set_xlabel('Temperature [K]', fontsize=24)\n",
    "    ax.set_ylabel('Probability Density (normed to Combined)', fontsize=24)\n",
    "    \n",
    "    ax.plot(Tx, T_AbunTotal/AreaT, c='black', label='(Combined)', alpha=.5) # plot combined distribution\n",
    "    \n",
    "    for i in range(len(names)): # plot each basin's temperature distribution\n",
    "        if heights[i] < 1e-9 : # skip basin if it has no contributions\n",
    "            continue\n",
    "        lsc = pattern_color[names[i]][0]\n",
    "        col = pattern_color[names[i]][1]\n",
    "        ax.plot(Tx, T_AbunEach[i]/AreaT, ls=lsc, c=col, label=names[i])\n",
    "    \n",
    "    ax.grid(True, ls='--', zorder=-15); ax.legend(fontsize=24,title='In Order of Proximity');\n",
    "    \n",
    "    ax.set_xlim(250,3000)\n",
    "    \n",
    "    #ax.set_yscale('log')\n",
    "    \n",
    "    fig.savefig('3_Temperature_Distributions/Temperature Distribution at {}.png'.format(title_loc))\n",
    "    plt.close(fig)\n",
    "    \n",
    "    "
   ]
  },
  {
   "cell_type": "code",
   "execution_count": 2,
   "metadata": {
    "scrolled": false
   },
   "outputs": [
    {
     "name": "stdout",
     "output_type": "stream",
     "text": [
      "============================================================================\n",
      "Apollo 11 Landing Site\n",
      "Sample Location: 0.67409 N , 23.47298 E\n",
      "============================================================================\n"
     ]
    },
    {
     "name": "stderr",
     "output_type": "stream",
     "text": [
      "100%|███████████████████████████████████████████| 19/19 [02:20<00:00,  7.42s/it]\n"
     ]
    },
    {
     "name": "stdout",
     "output_type": "stream",
     "text": [
      "Stacked Height at Apollo 11 Landing Site\n",
      "0.01891 km of ejecta from all basins\n",
      "----------------------------------------------------------------------------\n",
      "0.00041 km (#4) | from Nectaris      | 0589 km away | 0419 km from edge \n",
      "0.00492 km (#2) | from Serenitatis   | 0852 km away | 0515 km from edge \n",
      "0.00045 km (#3) | from Crisium       | 1181 km away | 0903 km from edge \n",
      "0.01311 km (#1) | from Imbrium       | 1490 km away | 0917 km from edge \n",
      "0.00003 km (#5) | from Humorum       | 1987 km away | 1777 km from edge \n",
      "0.00000 km (#6) | from SPoleAitkens  | 3676 km away | 2426 km from edge \n",
      "============================================================================\n"
     ]
    }
   ],
   "source": [
    "distribution(Apollo=11)"
   ]
  },
  {
   "cell_type": "code",
   "execution_count": 3,
   "metadata": {
    "scrolled": false
   },
   "outputs": [
    {
     "name": "stdout",
     "output_type": "stream",
     "text": [
      "============================================================================\n",
      "Apollo 12 Landing Site\n",
      "Sample Location: -3.01381 N , -23.4193 E\n",
      "============================================================================\n"
     ]
    },
    {
     "name": "stderr",
     "output_type": "stream",
     "text": [
      "100%|███████████████████████████████████████████| 19/19 [02:11<00:00,  6.94s/it]\n"
     ]
    },
    {
     "name": "stdout",
     "output_type": "stream",
     "text": [
      "Stacked Height at Apollo 12 Landing Site\n",
      "0.02948 km of ejecta from all basins\n",
      "----------------------------------------------------------------------------\n",
      "0.00047 km (#3) | from Humorum       | 0791 km away | 0581 km from edge \n",
      "0.02828 km (#1) | from Imbrium       | 1117 km away | 0544 km from edge \n",
      "0.00056 km (#2) | from Serenitatis   | 1529 km away | 1192 km from edge \n",
      "0.00000 km (#7) | from Nectaris      | 1783 km away | 1613 km from edge \n",
      "0.00000 km (#6) | from Lorentz       | 2336 km away | 2147 km from edge \n",
      "0.00005 km (#5) | from Crisium       | 2557 km away | 2279 km from edge \n",
      "0.00011 km (#4) | from Hertzsprung   | 3215 km away | 2930 km from edge \n",
      "============================================================================\n"
     ]
    }
   ],
   "source": [
    "distribution(Apollo=12)"
   ]
  },
  {
   "cell_type": "code",
   "execution_count": 4,
   "metadata": {},
   "outputs": [
    {
     "name": "stdout",
     "output_type": "stream",
     "text": [
      "============================================================================\n",
      "Apollo 14 Landing Site\n",
      "Sample Location: -3.64544 N , -17.47139 E\n",
      "============================================================================\n"
     ]
    },
    {
     "name": "stderr",
     "output_type": "stream",
     "text": [
      "100%|███████████████████████████████████████████| 19/19 [02:11<00:00,  6.91s/it]\n"
     ]
    },
    {
     "name": "stdout",
     "output_type": "stream",
     "text": [
      "Stacked Height at Apollo 14 Landing Site\n",
      "0.02969 km of ejecta from all basins\n",
      "----------------------------------------------------------------------------\n",
      "0.00036 km (#3) | from Humorum       | 0887 km away | 0677 km from edge \n",
      "0.02846 km (#1) | from Imbrium       | 1114 km away | 0541 km from edge \n",
      "0.00072 km (#2) | from Serenitatis   | 1410 km away | 1073 km from edge \n",
      "0.00005 km (#5) | from Nectaris      | 1603 km away | 1433 km from edge \n",
      "0.00008 km (#4) | from Crisium       | 2391 km away | 2113 km from edge \n",
      "0.00000 km (#7) | from Lorentz       | 2497 km away | 2308 km from edge \n",
      "0.00003 km (#6) | from Hertzsprung   | 3397 km away | 3112 km from edge \n",
      "============================================================================\n"
     ]
    }
   ],
   "source": [
    "distribution(Apollo=14)"
   ]
  },
  {
   "cell_type": "code",
   "execution_count": 5,
   "metadata": {},
   "outputs": [
    {
     "name": "stdout",
     "output_type": "stream",
     "text": [
      "============================================================================\n",
      "Apollo 15 Landing Site\n",
      "Sample Location: 26.13224 N , 3.634 E\n",
      "============================================================================\n"
     ]
    },
    {
     "name": "stderr",
     "output_type": "stream",
     "text": [
      "100%|███████████████████████████████████████████| 19/19 [02:10<00:00,  6.86s/it]\n"
     ]
    },
    {
     "name": "stdout",
     "output_type": "stream",
     "text": [
      "Stacked Height at Apollo 15 Landing Site\n",
      "0.39440 km of ejecta from all basins\n",
      "----------------------------------------------------------------------------\n",
      "0.08122 km (#2) | from Serenitatis   | 0381 km away | 0044 km from edge \n",
      "0.31297 km (#1) | from Imbrium       | 0549 km away | 0023 km within edge \n",
      "0.00005 km (#4) | from Nectaris      | 1562 km away | 1392 km from edge \n",
      "0.00014 km (#3) | from Crisium       | 1588 km away | 1310 km from edge \n",
      "0.00003 km (#5) | from Humorum       | 1983 km away | 1773 km from edge \n",
      "============================================================================\n"
     ]
    }
   ],
   "source": [
    "distribution(Apollo=15)"
   ]
  },
  {
   "cell_type": "code",
   "execution_count": 6,
   "metadata": {},
   "outputs": [
    {
     "name": "stdout",
     "output_type": "stream",
     "text": [
      "============================================================================\n",
      "Apollo 16 Landing Site\n",
      "Sample Location: -8.97341 N , 15.49859 E\n",
      "============================================================================\n"
     ]
    },
    {
     "name": "stderr",
     "output_type": "stream",
     "text": [
      "100%|███████████████████████████████████████████| 19/19 [02:09<00:00,  6.83s/it]\n"
     ]
    },
    {
     "name": "stdout",
     "output_type": "stream",
     "text": [
      "Stacked Height at Apollo 16 Landing Site\n",
      "0.01380 km of ejecta from all basins\n",
      "----------------------------------------------------------------------------\n",
      "0.00039 km (#3) | from Nectaris      | 0600 km away | 0430 km from edge \n",
      "0.00169 km (#2) | from Serenitatis   | 1130 km away | 0793 km from edge \n",
      "0.00016 km (#4) | from Crisium       | 1537 km away | 1259 km from edge \n",
      "0.01142 km (#1) | from Imbrium       | 1564 km away | 0991 km from edge \n",
      "0.00008 km (#5) | from Humorum       | 1640 km away | 1430 km from edge \n",
      "0.00005 km (#6) | from SPoleAitkens  | 3483 km away | 2233 km from edge \n",
      "============================================================================\n"
     ]
    }
   ],
   "source": [
    "distribution(Apollo=16)"
   ]
  },
  {
   "cell_type": "code",
   "execution_count": 7,
   "metadata": {
    "scrolled": false
   },
   "outputs": [
    {
     "name": "stdout",
     "output_type": "stream",
     "text": [
      "============================================================================\n",
      "Apollo 17 Landing Site\n",
      "Sample Location: 20.18809 N , 30.77475 E\n",
      "============================================================================\n"
     ]
    },
    {
     "name": "stderr",
     "output_type": "stream",
     "text": [
      "100%|██████████████████████████████████████████| 19/19 [39:05<00:00, 123.44s/it]\n"
     ]
    },
    {
     "name": "stdout",
     "output_type": "stream",
     "text": [
      "Stacked Height at Apollo 17 Landing Site\n",
      "0.07137 km of ejecta from all basins\n",
      "----------------------------------------------------------------------------\n",
      "0.05064 km (#1) | from Serenitatis   | 0439 km away | 0102 km from edge \n",
      "0.00171 km (#3) | from Crisium       | 0824 km away | 0546 km from edge \n",
      "0.00006 km (#4) | from Nectaris      | 1086 km away | 0916 km from edge \n",
      "0.01895 km (#2) | from Imbrium       | 1313 km away | 0741 km from edge \n",
      "0.00000 km (#5) | from Harkhebi      | 1839 km away | 1671 km from edge \n",
      "0.00000 km (#6) | from Humorum       | 2470 km away | 2260 km from edge \n",
      "============================================================================\n"
     ]
    }
   ],
   "source": [
    "distribution(Apollo=17)"
   ]
  },
  {
   "cell_type": "code",
   "execution_count": 8,
   "metadata": {
    "scrolled": false
   },
   "outputs": [
    {
     "name": "stdout",
     "output_type": "stream",
     "text": [
      "============================================================================\n",
      "Luna 16 Landing Site\n",
      "Sample Location: -0.5137 N , 56.3638 E\n",
      "============================================================================\n"
     ]
    },
    {
     "name": "stderr",
     "output_type": "stream",
     "text": [
      "100%|███████████████████████████████████████████| 19/19 [02:08<00:00,  6.77s/it]\n"
     ]
    },
    {
     "name": "stdout",
     "output_type": "stream",
     "text": [
      "Stacked Height at Luna 16 Landing Site\n",
      "0.03201 km of ejecta from all basins\n",
      "----------------------------------------------------------------------------\n",
      "0.00803 km (#2) | from Crisium       | 0541 km away | 0263 km from edge \n",
      "0.00011 km (#5) | from Nectaris      | 0795 km away | 0625 km from edge \n",
      "0.00069 km (#4) | from Serenitatis   | 1432 km away | 1095 km from edge \n",
      "0.00002 km (#6) | from Harkhebi      | 1692 km away | 1524 km from edge \n",
      "0.00247 km (#3) | from Imbrium       | 2296 km away | 1724 km from edge \n",
      "0.02069 km (#1) | from SPoleAitkens  | 3145 km away | 1895 km from edge \n",
      "============================================================================\n"
     ]
    }
   ],
   "source": [
    "distribution(Luna=16)"
   ]
  },
  {
   "cell_type": "code",
   "execution_count": 9,
   "metadata": {},
   "outputs": [
    {
     "name": "stdout",
     "output_type": "stream",
     "text": [
      "============================================================================\n",
      "Luna 20 Landing Site\n",
      "Sample Location: 3.5333 N , 56.55 E\n",
      "============================================================================\n"
     ]
    },
    {
     "name": "stderr",
     "output_type": "stream",
     "text": [
      "100%|███████████████████████████████████████████| 19/19 [02:08<00:00,  6.79s/it]\n"
     ]
    },
    {
     "name": "stdout",
     "output_type": "stream",
     "text": [
      "Stacked Height at Luna 20 Landing Site\n",
      "0.03218 km of ejecta from all basins\n",
      "----------------------------------------------------------------------------\n",
      "0.02046 km (#1) | from Crisium       | 0418 km away | 0140 km from edge \n",
      "0.00009 km (#5) | from Nectaris      | 0876 km away | 0706 km from edge \n",
      "0.00086 km (#4) | from Serenitatis   | 1358 km away | 1021 km from edge \n",
      "0.00005 km (#6) | from Harkhebi      | 1594 km away | 1425 km from edge \n",
      "0.00282 km (#3) | from Imbrium       | 2232 km away | 1660 km from edge \n",
      "0.00791 km (#2) | from SPoleAitkens  | 3242 km away | 1992 km from edge \n",
      "============================================================================\n"
     ]
    }
   ],
   "source": [
    "distribution(Luna=20)"
   ]
  },
  {
   "cell_type": "code",
   "execution_count": 10,
   "metadata": {},
   "outputs": [
    {
     "name": "stdout",
     "output_type": "stream",
     "text": [
      "============================================================================\n",
      "Luna 24 Landing Site\n",
      "Sample Location: 12.7145 N , 62.2129 E\n",
      "============================================================================\n"
     ]
    },
    {
     "name": "stderr",
     "output_type": "stream",
     "text": [
      "100%|███████████████████████████████████████████| 19/19 [02:09<00:00,  6.83s/it]\n"
     ]
    },
    {
     "name": "stdout",
     "output_type": "stream",
     "text": [
      "Stacked Height at Luna 24 Landing Site\n",
      "0.15142 km of ejecta from all basins\n",
      "----------------------------------------------------------------------------\n",
      "0.14661 km (#1) | from Crisium       | 0159 km away | 0118 km within edge \n",
      "0.00006 km (#5) | from Nectaris      | 1193 km away | 1023 km from edge \n",
      "0.00005 km (#6) | from Harkhebi      | 1270 km away | 1102 km from edge \n",
      "0.00087 km (#4) | from Serenitatis   | 1353 km away | 1016 km from edge \n",
      "0.00283 km (#2) | from Imbrium       | 2229 km away | 1657 km from edge \n",
      "0.00100 km (#3) | from SPoleAitkens  | 3365 km away | 2115 km from edge \n",
      "============================================================================\n"
     ]
    }
   ],
   "source": [
    "distribution(Luna=24)"
   ]
  },
  {
   "cell_type": "code",
   "execution_count": 11,
   "metadata": {},
   "outputs": [
    {
     "name": "stdout",
     "output_type": "stream",
     "text": [
      "============================================================================\n",
      "Chang'e 5 Landing Site\n",
      "Sample Location: 43.1 N , -51.8 E\n",
      "============================================================================\n"
     ]
    },
    {
     "name": "stderr",
     "output_type": "stream",
     "text": [
      "100%|███████████████████████████████████████████| 19/19 [02:09<00:00,  6.83s/it]\n"
     ]
    },
    {
     "name": "stdout",
     "output_type": "stream",
     "text": [
      "Stacked Height at Chang'e 5 Landing Site\n",
      "0.05295 km of ejecta from all basins\n",
      "----------------------------------------------------------------------------\n",
      "0.05225 km (#1) | from Imbrium       | 0918 km away | 0345 km from edge \n",
      "0.00012 km (#3) | from Lorentz       | 1083 km away | 0894 km from edge \n",
      "0.00039 km (#2) | from Serenitatis   | 1732 km away | 1395 km from edge \n",
      "0.00005 km (#6) | from Humorum       | 2094 km away | 1884 km from edge \n",
      "0.00008 km (#4) | from Hertzsprung   | 2428 km away | 2143 km from edge \n",
      "0.00007 km (#5) | from Crisium       | 2835 km away | 2557 km from edge \n",
      "============================================================================\n"
     ]
    }
   ],
   "source": [
    "distribution(Chang_e=5)"
   ]
  },
  {
   "cell_type": "code",
   "execution_count": null,
   "metadata": {},
   "outputs": [],
   "source": []
  },
  {
   "cell_type": "code",
   "execution_count": null,
   "metadata": {},
   "outputs": [],
   "source": []
  },
  {
   "cell_type": "code",
   "execution_count": null,
   "metadata": {},
   "outputs": [],
   "source": []
  },
  {
   "cell_type": "code",
   "execution_count": null,
   "metadata": {},
   "outputs": [],
   "source": []
  },
  {
   "cell_type": "code",
   "execution_count": null,
   "metadata": {},
   "outputs": [],
   "source": []
  }
 ],
 "metadata": {
  "kernelspec": {
   "display_name": "Python 3 (ipykernel)",
   "language": "python",
   "name": "python3"
  },
  "language_info": {
   "codemirror_mode": {
    "name": "ipython",
    "version": 3
   },
   "file_extension": ".py",
   "mimetype": "text/x-python",
   "name": "python",
   "nbconvert_exporter": "python",
   "pygments_lexer": "ipython3",
   "version": "3.7.1"
  }
 },
 "nbformat": 4,
 "nbformat_minor": 2
}
